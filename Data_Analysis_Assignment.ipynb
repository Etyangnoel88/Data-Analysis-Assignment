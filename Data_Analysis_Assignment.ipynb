{
 "cells": [
  {
   "cell_type": "code",
   "execution_count": null,
   "id": "b583fe7b",
   "metadata": {},
   "outputs": [],
   "source": []
  },
  {
   "cell_type": "code",
   "execution_count": null,
   "id": "d42dba5a",
   "metadata": {},
   "outputs": [],
   "source": [
    "import pandas as pd\n",
    "import matplotlib.pyplot as plt\n",
    "import seaborn as sns\n",
    "\n",
    "# Load dataset\n",
    "file_path = 'sendy_supply_inbounds_NOVEMBER_2021.csv'\n",
    "try:\n",
    "    df = pd.read_csv(file_path)\n",
    "    print('Dataset loaded successfully!')\n"
   ]
  },
  {
   "cell_type": "code",
   "execution_count": null,
   "id": "8ba32b56",
   "metadata": {},
   "outputs": [],
   "source": [
    "# Check dataset info\n",
    "df.info()\n",
    "\n",
    "# Check missing values\n",
    "df.isnull().sum()"
   ]
  },
  {
   "cell_type": "code",
   "execution_count": null,
   "id": "634de695",
   "metadata": {},
   "outputs": [],
   "source": [
    "# Fill missing transporter_name with 'Unknown'\n",
    "df['transporter_name'] = df['transporter_name'].fillna('Unknown')\n",
    "\n",
    "# Verify missing values handled\n",
    "df.isnull().sum()"
   ]
  },
  {
   "cell_type": "markdown",
   "id": "ffa89ec6",
   "metadata": {},
   "source": [
    "## Task 2: Basic Data Analysis"
   ]
  },
  {
   "cell_type": "code",
   "execution_count": null,
   "id": "20d9ae7d",
   "metadata": {},
   "outputs": [],
   "source": [
    "# Basic statistics\n",
    "df.describe(include='all')"
   ]
  },
  {
   "cell_type": "code",
   "execution_count": null,
   "id": "104d4b5b",
   "metadata": {},
   "outputs": [],
   "source": [
    "# Group by hub and calculate mean quantity\n",
    "hub_group = df.groupby('hub')['quantity'].mean().reset_index()\n",
    "hub_group"
   ]
  },
  {
   "cell_type": "markdown",
   "id": "fd335b99",
   "metadata": {},
   "source": [
    "## Task 3: Data Visualization"
   ]
  },
  {
   "cell_type": "code",
   "execution_count": null,
   "id": "a6574e2c",
   "metadata": {},
   "outputs": [],
   "source": [
    "# Convert 'date' column to datetime\n",
    "df['date'] = pd.to_datetime(df['date'])\n",
    "\n",
    "# Aggregate quantity by date\n",
    "daily_quantity = df.groupby('date')['quantity'].sum().reset_index()\n",
    "\n",
    "# Line chart\n",
    "plt.figure(figsize=(10,5))\n",
    "plt.plot(daily_quantity['date'], daily_quantity['quantity'], marker='o')\n",
    "plt.title('Daily Quantity Trend')\n",
    "plt.xlabel('Date')\n",
    "plt.ylabel('Total Quantity')\n",
    "plt.grid(True)\n",
    "plt.show()"
   ]
  },
  {
   "cell_type": "code",
   "execution_count": null,
   "id": "2af715b1",
   "metadata": {},
   "outputs": [],
   "source": [
    "# Bar chart: average quantity per hub\n",
    "plt.figure(figsize=(10,5))\n",
    "sns.barplot(x='hub', y='quantity', data=df, estimator=lambda x: sum(x)/len(x))\n",
    "plt.title('Average Quantity per Hub')\n",
    "plt.xticks(rotation=45)\n",
    "plt.show()"
   ]
  },
  {
   "cell_type": "code",
   "execution_count": null,
   "id": "b3121c2a",
   "metadata": {},
   "outputs": [],
   "source": [
    "# Histogram of quantity\n",
    "plt.figure(figsize=(8,5))\n",
    "plt.hist(df['quantity'], bins=20, edgecolor='black')\n",
    "plt.title('Distribution of Quantity')\n",
    "plt.xlabel('Quantity')\n",
    "plt.ylabel('Frequency')\n",
    "plt.show()"
   ]
  },
  {
   "cell_type": "code",
   "execution_count": null,
   "id": "fde82138",
   "metadata": {},
   "outputs": [],
   "source": [
    "# Scatter plot: quantity vs. handle_in_unit_fee\n",
    "plt.figure(figsize=(8,5))\n",
    "plt.scatter(df['quantity'], df['handle_in_unit_fee'], alpha=0.6)\n",
    "plt.title('Quantity vs Handle-in Unit Fee')\n",
    "plt.xlabel('Quantity')\n",
    "plt.ylabel('Handle-in Unit Fee')\n",
    "plt.show()"
   ]
  },
  {
   "cell_type": "markdown",
   "id": "9091a104",
   "metadata": {},
   "source": [
    "## Observations\n",
    "\n",
    "- The dataset contains inbound supply records with quantities and handling fees.\n",
    "- Missing values in `transporter_name` were replaced with 'Unknown'.\n",
    "- The average quantities vary across hubs, with some handling larger volumes.\n",
    "- Distribution of `quantity` is skewed, with most values clustered at smaller amounts.\n",
    "- Scatter plot shows the relationship between `quantity` and `handle_in_unit_fee` is fairly flat, suggesting the fee is relatively fixed."
   ]
  }
 ],
 "metadata": {
  "language_info": {
   "name": "python"
  }
 },
 "nbformat": 4,
 "nbformat_minor": 5
}
